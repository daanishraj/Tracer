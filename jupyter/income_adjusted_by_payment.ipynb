{
 "cells": [
  {
   "cell_type": "code",
   "execution_count": 9,
   "metadata": {
    "collapsed": true
   },
   "outputs": [],
   "source": [
    "from scipy.stats import bernoulli\n",
    "from functions import read_input_data, cal_income\n",
    "from constants import *\n",
    "import numpy as np\n",
    "import pandas as pd\n",
    "import matplotlib.pyplot as plt\n",
    "import seaborn as sns\n",
    "%matplotlib inline"
   ]
  },
  {
   "cell_type": "code",
   "execution_count": 2,
   "metadata": {},
   "outputs": [
    {
     "name": "stdout",
     "output_type": "stream",
     "text": [
      "                              a         b1         b2        b3\n",
      "No High School         41078.88 -2201.5820  78.223410 -0.788948\n",
      "High School Graduates  28752.76  -917.5466  51.095140 -0.608928\n",
      "College Graduates     -51819.03  3553.4590   0.933759 -0.549925\n",
      "\n",
      "\n",
      "                  No High School  High School Graduates  College Graduates\n",
      "sigma_permanent         0.157162               0.137113           0.143875\n",
      "sigma_transitory        0.339190               0.233773           0.229565\n"
     ]
    }
   ],
   "source": [
    "income_fp = './data/age_coefficients_and_var.xlsx'\n",
    "mortal_fp = './data/Conditional Survival Prob Feb 16.xlsx'\n",
    "age_coeff, std, surv_prob = read_input_data(income_fp, mortal_fp)\n",
    "print(age_coeff)\n",
    "print('\\n')\n",
    "print(std.loc[:, 'Labor Income Only'])"
   ]
  },
  {
   "cell_type": "code",
   "execution_count": 38,
   "metadata": {
    "collapsed": true
   },
   "outputs": [],
   "source": [
    "N_SIM = 100000\n",
    "AltDeg = 4\n",
    "D0 = 25000\n",
    "P_BAR = 3483.25\n",
    "rate = 0.07\n",
    "income = cal_income(age_coeff)\n",
    "sigma_perm = std.loc['sigma_permanent', 'Labor Income Only'][education_level[AltDeg]]\n",
    "sigma_tran = std.loc['sigma_transitory', 'Labor Income Only'][education_level[AltDeg]]"
   ]
  },
  {
   "cell_type": "code",
   "execution_count": 6,
   "metadata": {
    "collapsed": true
   },
   "outputs": [],
   "source": [
    "# generate random walk and normal r.v.\n",
    "rn_perm = np.random.normal(MU, sigma_perm, (N_SIM, RETIRE_AGE - START_AGE + 1))\n",
    "rand_walk = np.cumsum(rn_perm, axis=1)\n",
    "rn_tran = np.random.normal(MU, sigma_tran, (N_SIM, RETIRE_AGE - START_AGE + 1))\n",
    "inc_with_inc_risk = np.multiply(np.exp(rand_walk) * np.exp(rn_tran), income)\n",
    "\n",
    "# - retirement\n",
    "ret_income_vec = ret_frac[AltDeg] * np.tile(inc_with_inc_risk[:, -1], (END_AGE - RETIRE_AGE, 1)).T\n",
    "inc_with_inc_risk = np.append(inc_with_inc_risk, ret_income_vec, axis=1)"
   ]
  },
  {
   "cell_type": "code",
   "execution_count": 7,
   "metadata": {},
   "outputs": [
    {
     "data": {
      "text/plain": [
       "(100000, 79)"
      ]
     },
     "execution_count": 7,
     "metadata": {},
     "output_type": "execute_result"
    }
   ],
   "source": [
    "inc_with_inc_risk.shape"
   ]
  },
  {
   "cell_type": "code",
   "execution_count": 8,
   "metadata": {},
   "outputs": [
    {
     "data": {
      "text/plain": [
       "array([14637.30006382, 17537.46786292, 21525.63849246, 29732.80474924,\n",
       "       33491.0005622 , 34362.77624676, 22186.89569831, 15667.24563363,\n",
       "       17930.78250881, 16280.74697874, 17930.78704003, 23222.27144035,\n",
       "       16759.56623123, 25140.10891706, 19877.81369852, 21653.75324203,\n",
       "       13685.66918801, 34372.42932258, 28534.98417593, 13043.04044603,\n",
       "       40888.24204476, 32180.72054162, 26543.77357916, 34480.8874627 ,\n",
       "       29218.42623155, 28962.03398308, 28115.56752465, 22282.98825007,\n",
       "       36264.87703633, 29512.9519896 , 32238.92575085, 66152.18427731,\n",
       "       40519.15469027, 35475.02879147, 41373.86090364, 22995.47368102,\n",
       "       38745.32310998, 39298.45154103, 20723.08798442, 23326.1564829 ,\n",
       "       16956.18791164, 13862.49784039, 15854.14714482, 17546.28894528,\n",
       "        7923.90408769,  7923.90408769,  7923.90408769,  7923.90408769,\n",
       "        7923.90408769,  7923.90408769,  7923.90408769,  7923.90408769,\n",
       "        7923.90408769,  7923.90408769,  7923.90408769,  7923.90408769,\n",
       "        7923.90408769,  7923.90408769,  7923.90408769,  7923.90408769,\n",
       "        7923.90408769,  7923.90408769,  7923.90408769,  7923.90408769,\n",
       "        7923.90408769,  7923.90408769,  7923.90408769,  7923.90408769,\n",
       "        7923.90408769,  7923.90408769,  7923.90408769,  7923.90408769,\n",
       "        7923.90408769,  7923.90408769,  7923.90408769,  7923.90408769,\n",
       "        7923.90408769,  7923.90408769,  7923.90408769])"
      ]
     },
     "execution_count": 8,
     "metadata": {},
     "output_type": "execute_result"
    }
   ],
   "source": [
    "inc_with_inc_risk[0]"
   ]
  },
  {
   "cell_type": "code",
   "execution_count": 21,
   "metadata": {
    "collapsed": true
   },
   "outputs": [],
   "source": [
    "Y = inc_with_inc_risk\n",
    "D = np.zeros(inc_with_inc_risk.shape)\n",
    "D[:, 0] = D0\n",
    "P = np.zeros(inc_with_inc_risk.shape)"
   ]
  },
  {
   "cell_type": "code",
   "execution_count": 55,
   "metadata": {},
   "outputs": [
    {
     "name": "stdout",
     "output_type": "stream",
     "text": [
      "age: 22\n",
      "cond1: 99998\n",
      "cond2: 0\n",
      "cond3: 2\n",
      "cond4: 0\n",
      "age: 23\n",
      "cond1: 99994\n",
      "cond2: 0\n",
      "cond3: 6\n",
      "cond4: 0\n",
      "age: 24\n",
      "cond1: 99994\n",
      "cond2: 0\n",
      "cond3: 6\n",
      "cond4: 0\n",
      "age: 25\n",
      "cond1: 99996\n",
      "cond2: 0\n",
      "cond3: 4\n",
      "cond4: 0\n",
      "age: 26\n",
      "cond1: 99993\n",
      "cond2: 0\n",
      "cond3: 7\n",
      "cond4: 0\n",
      "age: 27\n",
      "cond1: 99991\n",
      "cond2: 0\n",
      "cond3: 9\n",
      "cond4: 0\n",
      "age: 28\n",
      "cond1: 99993\n",
      "cond2: 0\n",
      "cond3: 7\n",
      "cond4: 0\n",
      "age: 29\n",
      "cond1: 99988\n",
      "cond2: 0\n",
      "cond3: 12\n",
      "cond4: 0\n",
      "age: 30\n",
      "cond1: 99985\n",
      "cond2: 0\n",
      "cond3: 15\n",
      "cond4: 0\n",
      "age: 31\n",
      "cond1: 99981\n",
      "cond2: 0\n",
      "cond3: 19\n",
      "cond4: 0\n",
      "age: 32\n",
      "cond1: 0\n",
      "cond2: 99999\n",
      "cond3: 0\n",
      "cond4: 1\n",
      "age: 33\n",
      "cond1: 0\n",
      "cond2: 100000\n",
      "cond3: 0\n",
      "cond4: 0\n",
      "age: 34\n",
      "cond1: 0\n",
      "cond2: 100000\n",
      "cond3: 0\n",
      "cond4: 0\n",
      "age: 35\n",
      "cond1: 0\n",
      "cond2: 100000\n",
      "cond3: 0\n",
      "cond4: 0\n",
      "age: 36\n",
      "cond1: 0\n",
      "cond2: 100000\n",
      "cond3: 0\n",
      "cond4: 0\n",
      "age: 37\n",
      "cond1: 0\n",
      "cond2: 100000\n",
      "cond3: 0\n",
      "cond4: 0\n",
      "age: 38\n",
      "cond1: 0\n",
      "cond2: 100000\n",
      "cond3: 0\n",
      "cond4: 0\n",
      "age: 39\n",
      "cond1: 0\n",
      "cond2: 100000\n",
      "cond3: 0\n",
      "cond4: 0\n",
      "age: 40\n",
      "cond1: 0\n",
      "cond2: 100000\n",
      "cond3: 0\n",
      "cond4: 0\n",
      "age: 41\n",
      "cond1: 0\n",
      "cond2: 100000\n",
      "cond3: 0\n",
      "cond4: 0\n",
      "age: 42\n",
      "cond1: 0\n",
      "cond2: 100000\n",
      "cond3: 0\n",
      "cond4: 0\n",
      "age: 43\n",
      "cond1: 0\n",
      "cond2: 100000\n",
      "cond3: 0\n",
      "cond4: 0\n",
      "age: 44\n",
      "cond1: 0\n",
      "cond2: 100000\n",
      "cond3: 0\n",
      "cond4: 0\n",
      "age: 45\n",
      "cond1: 0\n",
      "cond2: 100000\n",
      "cond3: 0\n",
      "cond4: 0\n",
      "age: 46\n",
      "cond1: 0\n",
      "cond2: 100000\n",
      "cond3: 0\n",
      "cond4: 0\n",
      "age: 47\n",
      "cond1: 0\n",
      "cond2: 100000\n",
      "cond3: 0\n",
      "cond4: 0\n",
      "age: 48\n",
      "cond1: 0\n",
      "cond2: 100000\n",
      "cond3: 0\n",
      "cond4: 0\n",
      "age: 49\n",
      "cond1: 0\n",
      "cond2: 100000\n",
      "cond3: 0\n",
      "cond4: 0\n",
      "age: 50\n",
      "cond1: 0\n",
      "cond2: 100000\n",
      "cond3: 0\n",
      "cond4: 0\n",
      "age: 51\n",
      "cond1: 0\n",
      "cond2: 100000\n",
      "cond3: 0\n",
      "cond4: 0\n",
      "age: 52\n",
      "cond1: 0\n",
      "cond2: 100000\n",
      "cond3: 0\n",
      "cond4: 0\n",
      "age: 53\n",
      "cond1: 0\n",
      "cond2: 100000\n",
      "cond3: 0\n",
      "cond4: 0\n",
      "age: 54\n",
      "cond1: 0\n",
      "cond2: 100000\n",
      "cond3: 0\n",
      "cond4: 0\n",
      "age: 55\n",
      "cond1: 0\n",
      "cond2: 100000\n",
      "cond3: 0\n",
      "cond4: 0\n",
      "age: 56\n",
      "cond1: 0\n",
      "cond2: 100000\n",
      "cond3: 0\n",
      "cond4: 0\n",
      "age: 57\n",
      "cond1: 0\n",
      "cond2: 100000\n",
      "cond3: 0\n",
      "cond4: 0\n",
      "age: 58\n",
      "cond1: 0\n",
      "cond2: 100000\n",
      "cond3: 0\n",
      "cond4: 0\n",
      "age: 59\n",
      "cond1: 0\n",
      "cond2: 100000\n",
      "cond3: 0\n",
      "cond4: 0\n",
      "age: 60\n",
      "cond1: 0\n",
      "cond2: 100000\n",
      "cond3: 0\n",
      "cond4: 0\n",
      "age: 61\n",
      "cond1: 0\n",
      "cond2: 100000\n",
      "cond3: 0\n",
      "cond4: 0\n",
      "age: 62\n",
      "cond1: 0\n",
      "cond2: 100000\n",
      "cond3: 0\n",
      "cond4: 0\n",
      "age: 63\n",
      "cond1: 0\n",
      "cond2: 100000\n",
      "cond3: 0\n",
      "cond4: 0\n",
      "age: 64\n",
      "cond1: 0\n",
      "cond2: 100000\n",
      "cond3: 0\n",
      "cond4: 0\n",
      "age: 65\n",
      "cond1: 0\n",
      "cond2: 100000\n",
      "cond3: 0\n",
      "cond4: 0\n",
      "age: 66\n",
      "cond1: 0\n",
      "cond2: 100000\n",
      "cond3: 0\n",
      "cond4: 0\n",
      "age: 67\n",
      "cond1: 0\n",
      "cond2: 100000\n",
      "cond3: 0\n",
      "cond4: 0\n",
      "age: 68\n",
      "cond1: 0\n",
      "cond2: 100000\n",
      "cond3: 0\n",
      "cond4: 0\n",
      "age: 69\n",
      "cond1: 0\n",
      "cond2: 100000\n",
      "cond3: 0\n",
      "cond4: 0\n",
      "age: 70\n",
      "cond1: 0\n",
      "cond2: 100000\n",
      "cond3: 0\n",
      "cond4: 0\n",
      "age: 71\n",
      "cond1: 0\n",
      "cond2: 100000\n",
      "cond3: 0\n",
      "cond4: 0\n",
      "age: 72\n",
      "cond1: 0\n",
      "cond2: 100000\n",
      "cond3: 0\n",
      "cond4: 0\n",
      "age: 73\n",
      "cond1: 0\n",
      "cond2: 100000\n",
      "cond3: 0\n",
      "cond4: 0\n",
      "age: 74\n",
      "cond1: 0\n",
      "cond2: 100000\n",
      "cond3: 0\n",
      "cond4: 0\n",
      "age: 75\n",
      "cond1: 0\n",
      "cond2: 100000\n",
      "cond3: 0\n",
      "cond4: 0\n",
      "age: 76\n",
      "cond1: 0\n",
      "cond2: 100000\n",
      "cond3: 0\n",
      "cond4: 0\n",
      "age: 77\n",
      "cond1: 0\n",
      "cond2: 100000\n",
      "cond3: 0\n",
      "cond4: 0\n",
      "age: 78\n",
      "cond1: 0\n",
      "cond2: 100000\n",
      "cond3: 0\n",
      "cond4: 0\n",
      "age: 79\n",
      "cond1: 0\n",
      "cond2: 100000\n",
      "cond3: 0\n",
      "cond4: 0\n",
      "age: 80\n",
      "cond1: 0\n",
      "cond2: 100000\n",
      "cond3: 0\n",
      "cond4: 0\n",
      "age: 81\n",
      "cond1: 0\n",
      "cond2: 100000\n",
      "cond3: 0\n",
      "cond4: 0\n",
      "age: 82\n",
      "cond1: 0\n",
      "cond2: 100000\n",
      "cond3: 0\n",
      "cond4: 0\n",
      "age: 83\n",
      "cond1: 0\n",
      "cond2: 100000\n",
      "cond3: 0\n",
      "cond4: 0\n",
      "age: 84\n",
      "cond1: 0\n",
      "cond2: 100000\n",
      "cond3: 0\n",
      "cond4: 0\n",
      "age: 85\n",
      "cond1: 0\n",
      "cond2: 100000\n",
      "cond3: 0\n",
      "cond4: 0\n",
      "age: 86\n",
      "cond1: 0\n",
      "cond2: 100000\n",
      "cond3: 0\n",
      "cond4: 0\n",
      "age: 87\n",
      "cond1: 0\n",
      "cond2: 100000\n",
      "cond3: 0\n",
      "cond4: 0\n",
      "age: 88\n",
      "cond1: 0\n",
      "cond2: 100000\n",
      "cond3: 0\n",
      "cond4: 0\n",
      "age: 89\n",
      "cond1: 0\n",
      "cond2: 100000\n",
      "cond3: 0\n",
      "cond4: 0\n",
      "age: 90\n",
      "cond1: 0\n",
      "cond2: 100000\n",
      "cond3: 0\n",
      "cond4: 0\n",
      "age: 91\n",
      "cond1: 0\n",
      "cond2: 100000\n",
      "cond3: 0\n",
      "cond4: 0\n",
      "age: 92\n",
      "cond1: 0\n",
      "cond2: 100000\n",
      "cond3: 0\n",
      "cond4: 0\n",
      "age: 93\n",
      "cond1: 0\n",
      "cond2: 100000\n",
      "cond3: 0\n",
      "cond4: 0\n",
      "age: 94\n",
      "cond1: 0\n",
      "cond2: 100000\n",
      "cond3: 0\n",
      "cond4: 0\n",
      "age: 95\n",
      "cond1: 0\n",
      "cond2: 100000\n",
      "cond3: 0\n",
      "cond4: 0\n",
      "age: 96\n",
      "cond1: 0\n",
      "cond2: 100000\n",
      "cond3: 0\n",
      "cond4: 0\n",
      "age: 97\n",
      "cond1: 0\n",
      "cond2: 100000\n",
      "cond3: 0\n",
      "cond4: 0\n",
      "age: 98\n",
      "cond1: 0\n",
      "cond2: 100000\n",
      "cond3: 0\n",
      "cond4: 0\n",
      "age: 99\n",
      "cond1: 0\n",
      "cond2: 100000\n",
      "cond3: 0\n",
      "cond4: 0\n"
     ]
    }
   ],
   "source": [
    "for t in range(END_AGE - START_AGE):\n",
    "    cond1 = np.logical_and(Y[:, t] >= 2*P_BAR, D[:, t] >= P_BAR)\n",
    "    cond2 = np.logical_and(Y[:, t] >= 2*D[:, t], D[:, t] < P_BAR)\n",
    "    cond3 = np.logical_and(Y[:, t] < 2*P_BAR, D[:, t] >= P_BAR)\n",
    "    cond4 = np.logical_and(Y[:, t] < 2*D[:, t], D[:, t] < P_BAR)\n",
    "    \n",
    "    P[cond1, t] = P_BAR\n",
    "    P[cond2, t] = D[cond2, t]\n",
    "    P[cond3, t] = Y[cond3, t] / 2\n",
    "    P[cond4, t] = Y[cond4, t] / 2\n",
    "    \n",
    "    D[:, t+1] = D[:, t] * (1 + rate) - P[:, t]\n",
    "    \n",
    "    print('age:', t+22)\n",
    "    print('cond1:', cond1.sum())\n",
    "    print('cond2:', cond2.sum())\n",
    "    print('cond3:', cond3.sum())\n",
    "    print('cond4:', cond4.sum())"
   ]
  },
  {
   "cell_type": "code",
   "execution_count": 31,
   "metadata": {
    "collapsed": true
   },
   "outputs": [],
   "source": [
    "cond1 = np.logical_and(Y[:, 0] >= 2*P_BAR, D[:, 0] >= P_BAR)\n",
    "cond2 = np.logical_and(Y[:, 0] >= 2*D[:, 0], D[:, 0] < P_BAR)\n",
    "cond3 = np.logical_and(Y[:, 0] < 2*P_BAR, D[:, 0] >= P_BAR)\n",
    "cond4 = np.logical_and(Y[:, 0] < 2*D[:, 0], D[:, 0] < P_BAR)"
   ]
  },
  {
   "cell_type": "code",
   "execution_count": 33,
   "metadata": {
    "collapsed": true
   },
   "outputs": [],
   "source": [
    "P[cond1, 0] = P_BAR\n",
    "P[cond2, 0] = D[cond2, 0]\n",
    "P[cond3, 0] = Y[cond3, 0] / 2\n",
    "P[cond4, 0] = Y[cond4, 0] / 2\n"
   ]
  },
  {
   "cell_type": "code",
   "execution_count": 36,
   "metadata": {},
   "outputs": [
    {
     "data": {
      "text/plain": [
       "<matplotlib.collections.PathCollection at 0x127868780>"
      ]
     },
     "execution_count": 36,
     "metadata": {},
     "output_type": "execute_result"
    },
    {
     "data": {
      "image/png": "[encoded data removed]",
      "text/plain": [
       "<matplotlib.figure.Figure at 0x1275d8a58>"
      ]
     },
     "metadata": {},
     "output_type": "display_data"
    }
   ],
   "source": [
    "plt.scatter(np.arange(N_SIM), P[:, 0])"
   ]
  },
  {
   "cell_type": "code",
   "execution_count": 52,
   "metadata": {},
   "outputs": [
    {
     "data": {
      "image/png": "[encoded data removed]",
      "text/plain": [
       "<matplotlib.figure.Figure at 0x172336630>"
      ]
     },
     "metadata": {},
     "output_type": "display_data"
    }
   ],
   "source": [
    "plt.plot(np.arange(13), D[:, :13].T)\n",
    "plt.show()"
   ]
  },
  {
   "cell_type": "code",
   "execution_count": 53,
   "metadata": {},
   "outputs": [
    {
     "data": {
      "image/png": "[encoded data removed]",
      "text/plain": [
       "<matplotlib.figure.Figure at 0x16d2c6518>"
      ]
     },
     "metadata": {},
     "output_type": "display_data"
    }
   ],
   "source": [
    "plt.plot(np.arange(13), P[:, :13].T)\n",
    "plt.show()"
   ]
  },
  {
   "cell_type": "code",
   "execution_count": 54,
   "metadata": {},
   "outputs": [
    {
     "data": {
      "text/plain": [
       "array([     2,      6,      6,      4,      7,      9,      7,     12,\n",
       "           15,     19, 100000, 100000, 100000, 100000, 100000, 100000,\n",
       "       100000, 100000, 100000, 100000, 100000, 100000, 100000, 100000,\n",
       "       100000, 100000, 100000, 100000, 100000, 100000, 100000, 100000,\n",
       "       100000, 100000, 100000, 100000, 100000, 100000, 100000, 100000,\n",
       "       100000, 100000, 100000, 100000, 100000, 100000, 100000, 100000,\n",
       "       100000, 100000, 100000, 100000, 100000, 100000, 100000, 100000,\n",
       "       100000, 100000, 100000, 100000, 100000, 100000, 100000, 100000,\n",
       "       100000, 100000, 100000, 100000, 100000, 100000, 100000, 100000,\n",
       "       100000, 100000, 100000, 100000, 100000, 100000, 100000])"
      ]
     },
     "execution_count": 54,
     "metadata": {},
     "output_type": "execute_result"
    }
   ],
   "source": [
    "(P < P_BAR).sum(axis=0)"
   ]
  },
  {
   "cell_type": "code",
   "execution_count": 57,
   "metadata": {},
   "outputs": [
    {
     "data": {
      "text/plain": [
       "array([[11154.05006382, 14054.21786292, 18042.38849246, ...,\n",
       "         7923.90408769,  7923.90408769,  7923.90408769],\n",
       "       [21093.30773008, 23910.77611968, 11341.04240953, ...,\n",
       "        74072.48207133, 74072.48207133, 74072.48207133],\n",
       "       [10794.31104851, 47671.0115453 , 12180.69415657, ...,\n",
       "        13967.3531835 , 13967.3531835 , 13967.3531835 ],\n",
       "       ...,\n",
       "       [17252.00368062, 19562.94479894, 28418.64729315, ...,\n",
       "        43345.11924669, 43345.11924669, 43345.11924669],\n",
       "       [18078.25538307, 18106.30314946, 21350.71175848, ...,\n",
       "        38045.21617945, 38045.21617945, 38045.21617945],\n",
       "       [19445.10629261, 17388.33028215, 29033.2638329 , ...,\n",
       "        11266.1991983 , 11266.1991983 , 11266.1991983 ]])"
      ]
     },
     "execution_count": 57,
     "metadata": {},
     "output_type": "execute_result"
    }
   ],
   "source": [
    "Y - P"
   ]
  },
  {
   "cell_type": "code",
   "execution_count": 15,
   "metadata": {},
   "outputs": [],
   "source": [
    "import multiprocessing as mp\n",
    "import time"
   ]
  },
  {
   "cell_type": "code",
   "execution_count": 16,
   "metadata": {
    "collapsed": true
   },
   "outputs": [],
   "source": [
    "def cube(x):\n",
    "    return x**3"
   ]
  },
  {
   "cell_type": "code",
   "execution_count": 19,
   "metadata": {},
   "outputs": [
    {
     "name": "stdout",
     "output_type": "stream",
     "text": [
      "--- 2.249382972717285 seconds ---\n"
     ]
    }
   ],
   "source": [
    "start = time.time()\n",
    "pool = mp.Pool(processes=4)\n",
    "res1 = [pool.apply(cube, args=(x,)) for x in range(1,10000)]\n",
    "print(\"--- %s seconds ---\" % (time.time() - start))"
   ]
  },
  {
   "cell_type": "code",
   "execution_count": 20,
   "metadata": {},
   "outputs": [
    {
     "name": "stdout",
     "output_type": "stream",
     "text": [
      "--- 0.010087013244628906 seconds ---\n"
     ]
    }
   ],
   "source": [
    "start = time.time()\n",
    "res2 = []\n",
    "for x in range(1, 10000):\n",
    "    res2.append(cube(x))\n",
    "print(\"--- %s seconds ---\" % (time.time() - start))"
   ]
  },
  {
   "cell_type": "code",
   "execution_count": 21,
   "metadata": {},
   "outputs": [
    {
     "data": {
      "text/plain": [
       "True"
      ]
     },
     "execution_count": 21,
     "metadata": {},
     "output_type": "execute_result"
    }
   ],
   "source": [
    "res1 == res2\n"
   ]
  },
  {
   "cell_type": "code",
   "execution_count": null,
   "metadata": {
    "collapsed": true
   },
   "outputs": [],
   "source": []
  }
 ],
 "metadata": {
  "kernelspec": {
   "display_name": "Python 3",
   "language": "python",
   "name": "python3"
  },
  "language_info": {
   "codemirror_mode": {
    "name": "ipython",
    "version": 3
   },
   "file_extension": ".py",
   "mimetype": "text/x-python",
   "name": "python",
   "nbconvert_exporter": "python",
   "pygments_lexer": "ipython3",
   "version": "3.6.1"
  }
 },
 "nbformat": 4,
 "nbformat_minor": 2
}
