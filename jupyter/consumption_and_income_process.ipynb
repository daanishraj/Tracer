{
 "cells": [
  {
   "cell_type": "code",
   "execution_count": 1,
   "metadata": {
    "collapsed": true
   },
   "outputs": [],
   "source": [
    "import os\n",
    "import numpy as np\n",
    "import pandas as pd\n",
    "import matplotlib.pyplot as plt\n",
    "\n",
    "from functions import read_input_data, utility\n",
    "from constants import *"
   ]
  },
  {
   "cell_type": "code",
   "execution_count": 2,
   "metadata": {
    "collapsed": true
   },
   "outputs": [],
   "source": [
    "# get the survival probability\n",
    "data_dir_path = '/Users/Quintus/Google Drive/Dynamic Programming/code/data/'\n",
    "income_fp = os.path.join(data_dir_path, 'age_coefficients_and_var.xlsx')\n",
    "mortal_fp = os.path.join(data_dir_path, 'Conditional Survival Prob Feb 16.xlsx')\n",
    "age_coeff, std, surv_prob = read_input_data(income_fp, mortal_fp)\n",
    "cond_prob = surv_prob.loc[START_AGE:END_AGE, 'CSP']\n",
    "prob = cond_prob.cumprod().values"
   ]
  },
  {
   "cell_type": "code",
   "execution_count": 12,
   "metadata": {
    "collapsed": true
   },
   "outputs": [],
   "source": [
    "# read consumption process and income process\n",
    "results_dir_path = '/Users/Quintus/Google Drive/Dynamic Programming/code/results/'\n",
    "# c_proc_fp = os.path.join(results_dir_path, 'c process_College Graduates.xlsx')\n",
    "inc_proc_fp = os.path.join(results_dir_path, 'inc process_College Graduates.xlsx')\n",
    "\n",
    "# c_proc_df = pd.read_excel(c_proc_fp)\n",
    "inc_proc_df = pd.read_excel(inc_proc_fp)"
   ]
  },
  {
   "cell_type": "code",
   "execution_count": null,
   "metadata": {
    "collapsed": true
   },
   "outputs": [],
   "source": [
    "c_proc_df.describe()"
   ]
  },
  {
   "cell_type": "markdown",
   "metadata": {},
   "source": [
    "## Searching for negative income in the income process"
   ]
  },
  {
   "cell_type": "code",
   "execution_count": 15,
   "metadata": {},
   "outputs": [
    {
     "name": "stdout",
     "output_type": "stream",
     "text": [
      "Number of negative income:  11986\n",
      "Index of negative income:  (array([    5,     5,     5, ..., 99967, 99978, 99995]), array([1, 4, 5, ..., 6, 0, 1]))\n"
     ]
    },
    {
     "data": {
      "text/plain": [
       "array([    5,     6,    12, ..., 99967, 99978, 99995])"
      ]
     },
     "execution_count": 15,
     "metadata": {},
     "output_type": "execute_result"
    }
   ],
   "source": [
    "inc_proc = np.array(inc_proc_df)\n",
    "num_neg_inc = np.sum(inc_proc < 0)\n",
    "idx_neg_inc = np.nonzero(inc_proc < 0)\n",
    "print('Number of negative income: ', num_neg_inc)\n",
    "print('Index of negative income: ', idx_neg_inc)\n",
    "\n",
    "np.unique(idx_neg_inc[0])"
   ]
  },
  {
   "cell_type": "code",
   "execution_count": 20,
   "metadata": {},
   "outputs": [],
   "source": [
    "below_zero = inc_proc[np.unique(idx_neg_inc[0]), :10]\n",
    "below_zero_df = pd.DataFrame(below_zero)\n",
    "below_zero_df.to_excel('inc.xlsx', index=False)"
   ]
  },
  {
   "cell_type": "code",
   "execution_count": null,
   "metadata": {},
   "outputs": [],
   "source": [
    "import matplotlib.pyplot as plt\n",
    "plt.figure()\n",
    "plt.plot(np.arange(22, 32), below_zero.T)\n",
    "plt.grid()\n",
    "plt.show()"
   ]
  },
  {
   "cell_type": "markdown",
   "metadata": {},
   "source": [
    "## Calculating CE"
   ]
  },
  {
   "cell_type": "code",
   "execution_count": 5,
   "metadata": {
    "collapsed": true
   },
   "outputs": [],
   "source": [
    "# convert df to array\n",
    "c = np.array(c_proc_df)\n",
    "\n",
    "# discount factor\n",
    "YEARS = END_AGE - START_AGE + 1\n",
    "delta = np.ones((YEARS, 1)) * DELTA\n",
    "delta[0] = 1\n",
    "delta = np.cumprod(delta)\n",
    "\n",
    "# calculate utility of each step for each simulation,  and total utility for each simulation\n",
    "util_c = np.apply_along_axis(utility, 1, c, GAMMA)\n",
    "simu_util = np.sum(np.multiply(util_c[:, :44], (delta * prob)[:44]), axis=1)"
   ]
  },
  {
   "cell_type": "markdown",
   "metadata": {},
   "source": [
    "### Scatter Graph of the simulated unitility"
   ]
  },
  {
   "cell_type": "code",
   "execution_count": 6,
   "metadata": {},
   "outputs": [
    {
     "data": {
      "image/png": "[encoded data removed]",
      "text/plain": [
       "<matplotlib.figure.Figure at 0x1142619b0>"
      ]
     },
     "metadata": {},
     "output_type": "display_data"
    }
   ],
   "source": [
    "plt.figure()\n",
    "x = np.arange(N_SIM)\n",
    "plt.scatter(x, simu_util)\n",
    "plt.ylim(simu_util.min(), -simu_util.min())\n",
    "plt.title('Scatter Graph of the simulated unitility')\n",
    "plt.xlabel('Simulation')\n",
    "plt.ylabel('Utiliy')\n",
    "plt.show()"
   ]
  },
  {
   "cell_type": "code",
   "execution_count": null,
   "metadata": {
    "collapsed": true
   },
   "outputs": [],
   "source": [
    "b = [simu_util.min(), -0.1**5, -0.1**6, -0.1**7, -0.1**8, -0.1**9, -0.1**10, -0.1**11, -0.1**12, -0.1**13, -0.1**14]\n",
    "plt.figure()\n",
    "n, bins, patches = plt.hist(simu_util, bins=b)\n",
    "plt.show()"
   ]
  },
  {
   "cell_type": "code",
   "execution_count": 42,
   "metadata": {},
   "outputs": [
    {
     "data": {
      "text/plain": [
       "array([  0.00000000e+00,   0.00000000e+00,   1.00000000e+00,\n",
       "         3.50000000e+01,   3.99000000e+02,   4.15100000e+03,\n",
       "         2.62670000e+04,   6.90740000e+04])"
      ]
     },
     "execution_count": 42,
     "metadata": {},
     "output_type": "execute_result"
    }
   ],
   "source": [
    "n"
   ]
  },
  {
   "cell_type": "code",
   "execution_count": 43,
   "metadata": {},
   "outputs": [
    {
     "data": {
      "text/plain": [
       "array([ -1.00000000e-05,  -1.00000000e-06,  -1.00000000e-07,\n",
       "        -1.00000000e-08,  -1.00000000e-09,  -1.00000000e-10,\n",
       "        -1.00000000e-11,  -1.00000000e-12,  -1.00000000e-13])"
      ]
     },
     "execution_count": 43,
     "metadata": {},
     "output_type": "execute_result"
    }
   ],
   "source": [
    "bins"
   ]
  },
  {
   "cell_type": "code",
   "execution_count": 46,
   "metadata": {},
   "outputs": [
    {
     "data": {
      "text/plain": [
       "-0.3225502211597816"
      ]
     },
     "execution_count": 46,
     "metadata": {},
     "output_type": "execute_result"
    }
   ],
   "source": [
    "simu_util.min()"
   ]
  },
  {
   "cell_type": "code",
   "execution_count": null,
   "metadata": {
    "collapsed": true
   },
   "outputs": [],
   "source": []
  }
 ],
 "metadata": {
  "kernelspec": {
   "display_name": "Python 3",
   "language": "python",
   "name": "python3"
  },
  "language_info": {
   "codemirror_mode": {
    "name": "ipython",
    "version": 3
   },
   "file_extension": ".py",
   "mimetype": "text/x-python",
   "name": "python",
   "nbconvert_exporter": "python",
   "pygments_lexer": "ipython3",
   "version": "3.6.1"
  }
 },
 "nbformat": 4,
 "nbformat_minor": 2
}
